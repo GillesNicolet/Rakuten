{
 "cells": [
  {
   "cell_type": "markdown",
   "metadata": {},
   "source": [
    "# RakuPy : modèle de Deep Learning pour la classification de produits d'e-commerce"
   ]
  },
  {
   "cell_type": "markdown",
   "metadata": {},
   "source": [
    "Nous présentons dans ce notebook un modèle de Deep Learning pour la classification d'articles d'e-commerce à partir du texte (intitulé des produits) et de l'image (une illustration par produit).\n",
    "\n",
    "Il a été développé et évalué sur un jeu de données concernant 84916 produits classifiés en 27 catégories de tailles variables et fourni par la plateforme de e-commerce Rakuten France. Les données sont librement téléchargeable ici :\n",
    "https://challengedata.ens.fr/participants/challenges/35/\n",
    "\n",
    "Sur ces données ce modèle a obtenu pour le jeu de validation un F1-score pondéré de 0.83 et une accuracy de 0.83.\n",
    "\n",
    "Voici comment est organisé ce notebook :\n",
    "\n",
    "1. Importations des modules et chargement des données\n",
    "1. Rognage et redimensionnement des images\n",
    "1. Preprocessing\n",
    "1. Générateurs textes+images\n",
    "1. Création du modèle\n",
    "1. Entraînement\n",
    "1. Évaluation"
   ]
  },
  {
   "cell_type": "code",
   "execution_count": 1,
   "metadata": {},
   "outputs": [
    {
     "name": "stderr",
     "output_type": "stream",
     "text": [
      "2021-10-05 09:51:16.703938: I tensorflow/stream_executor/platform/default/dso_loader.cc:49] Successfully opened dynamic library libcudart.so.10.1\n"
     ]
    },
    {
     "name": "stdout",
     "output_type": "stream",
     "text": [
      "GPU détecté par défaut : /device:GPU:0\n"
     ]
    },
    {
     "name": "stderr",
     "output_type": "stream",
     "text": [
      "2021-10-05 09:51:36.844107: I tensorflow/core/platform/cpu_feature_guard.cc:142] This TensorFlow binary is optimized with oneAPI Deep Neural Network Library (oneDNN) to use the following CPU instructions in performance-critical operations:  SSE4.1 SSE4.2 AVX AVX2 FMA\n",
      "To enable them in other operations, rebuild TensorFlow with the appropriate compiler flags.\n",
      "2021-10-05 09:51:36.984465: I tensorflow/stream_executor/platform/default/dso_loader.cc:49] Successfully opened dynamic library libcuda.so.1\n",
      "2021-10-05 09:51:37.216732: I tensorflow/stream_executor/cuda/cuda_gpu_executor.cc:941] successful NUMA node read from SysFS had negative value (-1), but there must be at least one NUMA node, so returning NUMA node zero\n",
      "2021-10-05 09:51:37.217678: I tensorflow/core/common_runtime/gpu/gpu_device.cc:1720] Found device 0 with properties: \n",
      "pciBusID: 0000:02:00.0 name: NVIDIA GeForce GTX 960M computeCapability: 5.0\n",
      "coreClock: 1.176GHz coreCount: 5 deviceMemorySize: 3.95GiB deviceMemoryBandwidth: 74.65GiB/s\n",
      "2021-10-05 09:51:37.217726: I tensorflow/stream_executor/platform/default/dso_loader.cc:49] Successfully opened dynamic library libcudart.so.10.1\n",
      "2021-10-05 09:51:38.897206: I tensorflow/stream_executor/platform/default/dso_loader.cc:49] Successfully opened dynamic library libcublas.so.10\n",
      "2021-10-05 09:51:38.897325: I tensorflow/stream_executor/platform/default/dso_loader.cc:49] Successfully opened dynamic library libcublasLt.so.10\n",
      "2021-10-05 09:51:39.189514: I tensorflow/stream_executor/platform/default/dso_loader.cc:49] Successfully opened dynamic library libcufft.so.10\n",
      "2021-10-05 09:51:39.255051: I tensorflow/stream_executor/platform/default/dso_loader.cc:49] Successfully opened dynamic library libcurand.so.10\n",
      "2021-10-05 09:51:39.913459: I tensorflow/stream_executor/platform/default/dso_loader.cc:49] Successfully opened dynamic library libcusolver.so.10\n",
      "2021-10-05 09:51:39.975803: I tensorflow/stream_executor/platform/default/dso_loader.cc:49] Successfully opened dynamic library libcusparse.so.10\n",
      "2021-10-05 09:51:41.162867: I tensorflow/stream_executor/platform/default/dso_loader.cc:49] Successfully opened dynamic library libcudnn.so.7\n",
      "2021-10-05 09:51:41.163092: I tensorflow/stream_executor/cuda/cuda_gpu_executor.cc:941] successful NUMA node read from SysFS had negative value (-1), but there must be at least one NUMA node, so returning NUMA node zero\n",
      "2021-10-05 09:51:41.163674: I tensorflow/stream_executor/cuda/cuda_gpu_executor.cc:941] successful NUMA node read from SysFS had negative value (-1), but there must be at least one NUMA node, so returning NUMA node zero\n",
      "2021-10-05 09:51:41.164019: I tensorflow/core/common_runtime/gpu/gpu_device.cc:1862] Adding visible gpu devices: 0\n",
      "2021-10-05 09:51:41.170516: I tensorflow/stream_executor/platform/default/dso_loader.cc:49] Successfully opened dynamic library libcudart.so.10.1\n",
      "2021-10-05 09:56:46.747640: I tensorflow/core/common_runtime/gpu/gpu_device.cc:1261] Device interconnect StreamExecutor with strength 1 edge matrix:\n",
      "2021-10-05 09:56:46.747678: I tensorflow/core/common_runtime/gpu/gpu_device.cc:1267]      0 \n",
      "2021-10-05 09:56:46.747688: I tensorflow/core/common_runtime/gpu/gpu_device.cc:1280] 0:   N \n",
      "2021-10-05 09:56:46.771878: I tensorflow/stream_executor/cuda/cuda_gpu_executor.cc:941] successful NUMA node read from SysFS had negative value (-1), but there must be at least one NUMA node, so returning NUMA node zero\n",
      "2021-10-05 09:56:46.772711: I tensorflow/stream_executor/cuda/cuda_gpu_executor.cc:941] successful NUMA node read from SysFS had negative value (-1), but there must be at least one NUMA node, so returning NUMA node zero\n",
      "2021-10-05 09:56:46.773209: I tensorflow/stream_executor/cuda/cuda_gpu_executor.cc:941] successful NUMA node read from SysFS had negative value (-1), but there must be at least one NUMA node, so returning NUMA node zero\n",
      "2021-10-05 09:56:46.773622: I tensorflow/core/common_runtime/gpu/gpu_device.cc:1406] Created TensorFlow device (/device:GPU:0 with 3403 MB memory) -> physical GPU (device: 0, name: NVIDIA GeForce GTX 960M, pci bus id: 0000:02:00.0, compute capability: 5.0)\n",
      "2021-10-05 09:56:46.819413: I tensorflow/compiler/jit/xla_gpu_device.cc:99] Not creating XLA devices, tf_xla_enable_xla_devices not set\n",
      "2021-10-05 09:56:46.832388: I tensorflow/stream_executor/cuda/cuda_gpu_executor.cc:941] successful NUMA node read from SysFS had negative value (-1), but there must be at least one NUMA node, so returning NUMA node zero\n",
      "2021-10-05 09:56:46.832859: I tensorflow/core/common_runtime/gpu/gpu_device.cc:1720] Found device 0 with properties: \n",
      "pciBusID: 0000:02:00.0 name: NVIDIA GeForce GTX 960M computeCapability: 5.0\n",
      "coreClock: 1.176GHz coreCount: 5 deviceMemorySize: 3.95GiB deviceMemoryBandwidth: 74.65GiB/s\n",
      "2021-10-05 09:56:46.832899: I tensorflow/stream_executor/platform/default/dso_loader.cc:49] Successfully opened dynamic library libcudart.so.10.1\n",
      "2021-10-05 09:56:46.832938: I tensorflow/stream_executor/platform/default/dso_loader.cc:49] Successfully opened dynamic library libcublas.so.10\n",
      "2021-10-05 09:56:46.832959: I tensorflow/stream_executor/platform/default/dso_loader.cc:49] Successfully opened dynamic library libcublasLt.so.10\n",
      "2021-10-05 09:56:46.832979: I tensorflow/stream_executor/platform/default/dso_loader.cc:49] Successfully opened dynamic library libcufft.so.10\n",
      "2021-10-05 09:56:46.832998: I tensorflow/stream_executor/platform/default/dso_loader.cc:49] Successfully opened dynamic library libcurand.so.10\n",
      "2021-10-05 09:56:46.833018: I tensorflow/stream_executor/platform/default/dso_loader.cc:49] Successfully opened dynamic library libcusolver.so.10\n",
      "2021-10-05 09:56:46.833037: I tensorflow/stream_executor/platform/default/dso_loader.cc:49] Successfully opened dynamic library libcusparse.so.10\n",
      "2021-10-05 09:56:46.833057: I tensorflow/stream_executor/platform/default/dso_loader.cc:49] Successfully opened dynamic library libcudnn.so.7\n",
      "2021-10-05 09:56:46.833163: I tensorflow/stream_executor/cuda/cuda_gpu_executor.cc:941] successful NUMA node read from SysFS had negative value (-1), but there must be at least one NUMA node, so returning NUMA node zero\n",
      "2021-10-05 09:56:46.833672: I tensorflow/stream_executor/cuda/cuda_gpu_executor.cc:941] successful NUMA node read from SysFS had negative value (-1), but there must be at least one NUMA node, so returning NUMA node zero\n",
      "2021-10-05 09:56:46.834085: I tensorflow/core/common_runtime/gpu/gpu_device.cc:1862] Adding visible gpu devices: 0\n",
      "2021-10-05 09:56:46.834163: I tensorflow/core/common_runtime/gpu/gpu_device.cc:1261] Device interconnect StreamExecutor with strength 1 edge matrix:\n",
      "2021-10-05 09:56:46.834174: I tensorflow/core/common_runtime/gpu/gpu_device.cc:1267]      0 \n",
      "2021-10-05 09:56:46.834182: I tensorflow/core/common_runtime/gpu/gpu_device.cc:1280] 0:   N \n",
      "2021-10-05 09:56:46.834317: I tensorflow/stream_executor/cuda/cuda_gpu_executor.cc:941] successful NUMA node read from SysFS had negative value (-1), but there must be at least one NUMA node, so returning NUMA node zero\n",
      "2021-10-05 09:56:46.834805: I tensorflow/stream_executor/cuda/cuda_gpu_executor.cc:941] successful NUMA node read from SysFS had negative value (-1), but there must be at least one NUMA node, so returning NUMA node zero\n",
      "2021-10-05 09:56:46.835205: I tensorflow/core/common_runtime/gpu/gpu_device.cc:1406] Created TensorFlow device (/device:GPU:0 with 3403 MB memory) -> physical GPU (device: 0, name: NVIDIA GeForce GTX 960M, pci bus id: 0000:02:00.0, compute capability: 5.0)\n",
      "2021-10-05 09:56:46.835230: I tensorflow/compiler/jit/xla_gpu_device.cc:99] Not creating XLA devices, tf_xla_enable_xla_devices not set\n"
     ]
    }
   ],
   "source": [
    "# Vérification de l'activation du GPU\n",
    "import tensorflow as tf \n",
    "\n",
    "if tf.test.gpu_device_name():\n",
    "    print('GPU détecté par défaut : {}'.format(tf.test.gpu_device_name()))\n",
    "    device_name = \"/GPU:0\"\n",
    "else:\n",
    "    print(\"Pas de GPU disponible sur votre machine.\")\n",
    "    device_name = \"/device:CPU:0\"\n"
   ]
  },
  {
   "cell_type": "markdown",
   "metadata": {},
   "source": [
    "## Importations des modules et chargement des données"
   ]
  },
  {
   "cell_type": "markdown",
   "metadata": {},
   "source": [
    "Les données chargées sont la variable cible (fichier y_train.csv) et le fichier X_train.csv qui contient 4 colonnes :\n",
    "1. designation (le titre du produit)\n",
    "1. description (la description, non utilisée dans le modèle)\n",
    "1. imageid\n",
    "1. productid\n",
    "\n",
    "Les deux dernières colonnes permettent d'accèder au fichier image du produit\n",
    "\n",
    "**Le chemin d'accès aux fichiers dépend de celui de l'utilisateur**\n"
   ]
  },
  {
   "cell_type": "code",
   "execution_count": 3,
   "metadata": {
    "colab": {
     "base_uri": "https://localhost:8080/"
    },
    "executionInfo": {
     "elapsed": 27077,
     "status": "ok",
     "timestamp": 1632855077969,
     "user": {
      "displayName": "Gilles Nicolet",
      "photoUrl": "https://lh3.googleusercontent.com/a/default-user=s64",
      "userId": "06927746201913363489"
     },
     "user_tz": -120
    },
    "id": "77JdsHkR_3Px",
    "outputId": "5a218688-103d-41a2-a287-48e6de81f618"
   },
   "outputs": [],
   "source": [
    "# Importation des modules et des fonctions\n",
    "import pandas as pd\n",
    "import numpy as np\n",
    "import matplotlib.pyplot as plt\n",
    "import seaborn as sns\n",
    "import tensorflow as tf\n",
    "import re\n",
    "import unicodedata\n",
    "\n",
    "from sklearn.model_selection import train_test_split\n",
    "from sklearn.feature_extraction.text import CountVectorizer\n",
    "from tensorflow.keras.preprocessing.text import Tokenizer\n",
    "from tensorflow.keras.preprocessing.sequence import pad_sequences\n",
    "from nltk.tokenize.regexp import RegexpTokenizer\n",
    "from nltk.corpus import stopwords\n",
    "from tensorflow.keras import Model, Input\n",
    "from tensorflow.keras.models import Sequential\n",
    "from tensorflow.keras.layers import Concatenate\n",
    "from tensorflow.keras.layers import Dense\n",
    "from tensorflow.keras.layers import Dropout \n",
    "from tensorflow.keras.layers import Embedding \n",
    "from tensorflow.keras.layers import Flatten\n",
    "from tensorflow.keras.layers import InputLayer\n",
    "from tensorflow.keras.layers import Reshape\n",
    "from tensorflow.keras.layers import Conv2D \n",
    "from tensorflow.keras.layers import MaxPooling2D\n",
    "from tensorflow.keras.layers import GlobalAveragePooling2D, Dropout\n",
    "from tensorflow.keras.optimizers import Adam\n",
    "from tensorflow.keras.preprocessing.image import ImageDataGenerator\n",
    "from tensorflow.keras.applications.efficientnet import EfficientNetB4\n",
    "from tensorflow.keras import backend as K\n",
    "from nltk.corpus import stopwords\n",
    "from nltk.tokenize import word_tokenize\n",
    "\n",
    "%matplotlib inline\n",
    "\n",
    "# Chemin pour accéder aux documents (à changer selon l'utilisateur)\n",
    "path = '/home/zhx/Documents/Gilles_projets/'\n",
    "\n",
    "# labels du jeu d'entraînement\n",
    "target = pd.read_csv(path+'Data/y_train.csv',index_col=0)\n",
    "target = target[\"prdtypecode\"].astype(str)\n",
    "\n",
    "# Chargement des données\n",
    "df = pd.read_csv(path+'Data/textes/X_train.csv',index_col=0)\n"
   ]
  },
  {
   "cell_type": "markdown",
   "metadata": {},
   "source": [
    "## Rognage et redimensionnement des images"
   ]
  },
  {
   "cell_type": "markdown",
   "metadata": {},
   "source": [
    "**La cellule ci-dessous doit être exécutée une fois pour toute.**\n",
    "\n",
    "Nous transformons les images en rognant les bords blancs, puis en les redimensionnant à la même taille (350,350) plus petite que la dimension originale (500,500).\n",
    "\n",
    "Ceci permet de réduire le temps de calcul par 2 pour très peu de perte de performance.\n",
    "\n",
    "**Le chemin d'accès au dossier d'images à transformer et celui du dossier où seront enregistrées les images rognées et redimensionnées sont à adapter selon l'utilisateur**\n"
   ]
  },
  {
   "cell_type": "code",
   "execution_count": null,
   "metadata": {},
   "outputs": [],
   "source": [
    "import os\n",
    "from pathlib import Path\n",
    "from PIL import Image\n",
    "from matplotlib import image\n",
    "import cv2\n",
    "import tqdm\n",
    "\n",
    "# Chemin d'accès du dossier des images à transformer (à modifier selon l'utilisateur)\n",
    "Path = path + \"Data/images/image_train\"\n",
    "\n",
    "# Chemin d'accès du dossier où seront enregistrées les images rognées et redimensionnées\n",
    "# (à modifier selon l'utilisateur)\n",
    "path_crop_resize = \"Data/images_resize/image_train/\"\n",
    "\n",
    "# Fonction pour rogner les bords blancs d'une image et la redimensionner à (350,350)\n",
    "def crop_resize(img):\n",
    "    # Conversion des images en gris\n",
    "    gray = cv2.cvtColor(img, cv2.COLOR_BGR2GRAY)\n",
    "    \n",
    "    # Seuil pour définir les zones de blancs\n",
    "    th, threshed = cv2.threshold(gray, 240, 255, cv2.THRESH_BINARY_INV)\n",
    "\n",
    "    # Effacement du bruit\n",
    "    kernel = cv2.getStructuringElement(cv2.MORPH_ELLIPSE, (11,11))\n",
    "    morphed = cv2.morphologyEx(threshed, cv2.MORPH_CLOSE, kernel)\n",
    "\n",
    "    # Trouver le rectangle optimal\n",
    "    cnts = cv2.findContours(morphed, cv2.RETR_EXTERNAL, cv2.CHAIN_APPROX_SIMPLE)[-2]\n",
    "    \n",
    "    # Nous testons si l'image est intégralement blanche\n",
    "    if len(cnts)==0:\n",
    "        # Si oui, nous laissons l'image telle quelle\n",
    "        img_crop = img\n",
    "    else:\n",
    "        cnt = sorted(cnts, key=cv2.contourArea)[-1]\n",
    "        # rognage de l'image\n",
    "        x,y,w,h = cv2.boundingRect(cnt)\n",
    "        img_crop = img[y:y+h, x:x+w]\n",
    "        \n",
    "    # Redimensionnement de l'image à (350,350)\n",
    "    img_resize = cv2.resize(img_crop, dsize=(350,350), interpolation=cv2.INTER_CUBIC)\n",
    "    \n",
    "    return img_resize\n",
    "\n",
    "# Nous faisons une boucle sur toutes les images pour les rogner et le redimensionner\n",
    "for file in tqdm.tqdm(os.listdir(str(Path))):\n",
    "    # Chargement de l'image\n",
    "    im = cv2.imread(str(os.path.join(str(Path),file)))\n",
    "    # Rognage et redimensionnement de l'image\n",
    "    img = Image.fromarray(crop_resize(im))\n",
    "    # Sauvegarde de la nouvelle image dans un nouveau dossier\n",
    "    img.save( path + path_crop_resize +file)"
   ]
  },
  {
   "cell_type": "markdown",
   "metadata": {},
   "source": [
    "## Preprocessing"
   ]
  },
  {
   "cell_type": "markdown",
   "metadata": {},
   "source": [
    "Le preprocessing consiste ici à :\n",
    "1. Incorporer le chemin à chaque image à partir des colonnes 'imageid' et 'productid'\n",
    "1. Utiliser un tokenizer sur les 10000 mots les plus fréquents pour remplacer les mots par des nombres\n",
    "1. Compléter par des zéros pour avoir des vecteurs de longueur 34 (le titre le plus long a 34 mots)\n",
    "\n",
    "Les données sont séparées en un jeu d'entraînement (71104 produits) et en un jeu de validation (13812 produits)"
   ]
  },
  {
   "cell_type": "code",
   "execution_count": null,
   "metadata": {},
   "outputs": [],
   "source": [
    "# Incorporation du chemin de l'image dans le jeu de données\n",
    "def creation_chemin(col1,col2):\n",
    "     return path+'Data/images_resize/image_train/image_' + str(col1) + '_product_' + str(col2) + '.jpg'\n",
    "# Remarque : nous utilisons des images rognées et redimensionnées\n",
    "df['img_paths'] = np.vectorize(creation_chemin)(df['imageid'],df['productid'])\n",
    "\n",
    "# Nous séparons les données en un jeu d'entraînement et en un jeu de validation\n",
    "data_train, data_valid, y_train, y_valid = train_test_split(df,target,test_size=13812,stratify=target,random_state=34)\n",
    "\n",
    "# on limite à 10000 mots\n",
    "tokenizer = Tokenizer(num_words=10000)\n",
    "\n",
    "# On applique le tokenizer sur notre feature designation\n",
    "tokenizer.fit_on_texts(df.designation)\n",
    "\n",
    "# On tokenize les datasets X_train et X_valid\n",
    "X_train = tokenizer.texts_to_sequences(data_train.designation)\n",
    "X_valid = tokenizer.texts_to_sequences(data_valid.designation)\n",
    "\n",
    "# Taille du vocabulaire\n",
    "# on met +1 car le correspond correspond à une absence de mot\n",
    "vocabulary_size = len(tokenizer.word_index) + 1\n",
    "X_train = pad_sequences(X_train,padding='post',truncating='post',maxlen=34)\n",
    "X_valid = pad_sequences(X_valid,padding='post',truncating='post',maxlen=34)\n"
   ]
  },
  {
   "cell_type": "markdown",
   "metadata": {},
   "source": [
    "## Générateurs textes+images"
   ]
  },
  {
   "cell_type": "markdown",
   "metadata": {},
   "source": [
    "Pour utiliser à la fois les textes et les images pour notre modèle, nous avons besoin de créer un générateur qui renverra à la fois le titre et l'image. \n",
    "\n",
    "Nous commençons par créer des générateurs d'images. Pour le jeu d'entraînement, le générateur applique des transformations aux images pour montrer à notre modèle des configurations d'images plus variées pour améliorer ses capacités de généralisation.\n",
    "\n",
    "Ensuite nous créons des générateurs spécialement construits pour notre modèle pour renvoyer les textes avec les images correspondantes."
   ]
  },
  {
   "cell_type": "code",
   "execution_count": 4,
   "metadata": {
    "colab": {
     "base_uri": "https://localhost:8080/"
    },
    "executionInfo": {
     "elapsed": 501,
     "status": "ok",
     "timestamp": 1632855118576,
     "user": {
      "displayName": "Gilles Nicolet",
      "photoUrl": "https://lh3.googleusercontent.com/a/default-user=s64",
      "userId": "06927746201913363489"
     },
     "user_tz": -120
    },
    "id": "TjGnPatB_3tZ",
    "outputId": "6e894923-f193-4a8c-b6de-e3adf78e3d22"
   },
   "outputs": [
    {
     "name": "stderr",
     "output_type": "stream",
     "text": [
      "/tmp/ipykernel_4204/1452503919.py:11: SettingWithCopyWarning: \n",
      "A value is trying to be set on a copy of a slice from a DataFrame.\n",
      "Try using .loc[row_indexer,col_indexer] = value instead\n",
      "\n",
      "See the caveats in the documentation: https://pandas.pydata.org/pandas-docs/stable/user_guide/indexing.html#returning-a-view-versus-a-copy\n",
      "  data_train[\"class\"] = y_train.astype(str)\n",
      "/tmp/ipykernel_4204/1452503919.py:12: SettingWithCopyWarning: \n",
      "A value is trying to be set on a copy of a slice from a DataFrame.\n",
      "Try using .loc[row_indexer,col_indexer] = value instead\n",
      "\n",
      "See the caveats in the documentation: https://pandas.pydata.org/pandas-docs/stable/user_guide/indexing.html#returning-a-view-versus-a-copy\n",
      "  data_valid[\"class\"] = y_valid.astype(str)\n"
     ]
    }
   ],
   "source": [
    "# Création de générateurs d'images\n",
    "from tensorflow.keras.applications.efficientnet import preprocess_input\n",
    "# Pour le jeu d'entraînement (Le générateur d'images du jeu d'entraînement applique \n",
    "# des transformations aux images pour augmenter le jeu de données\n",
    "train_image_data_generator = ImageDataGenerator(preprocessing_function=preprocess_input,rotation_range=5,\n",
    "                                          width_shift_range=0.05,height_shift_range=0.05,\n",
    "                                          horizontal_flip=True)\n",
    "# Pour le jeu de validation\n",
    "valid_image_data_generator = ImageDataGenerator(preprocessing_function=preprocess_input)\n",
    "\n",
    "\n",
    "# Taille des batchs\n",
    "batch_size = 32\n",
    "\n",
    "data_train[\"class\"] = y_train.astype(str)\n",
    "data_valid[\"class\"] = y_valid.astype(str)\n",
    "\n",
    "# Fonction pour créer un générateur images+textes pour le jeu d'entraînement\n",
    "def trainGenerator(data,X,y,batch_size,seed):\n",
    "    train_generator_1 = train_image_data_generator.flow_from_dataframe(dataframe=data,\n",
    "                                                           directory=\"\",\n",
    "                                                           x_col='img_paths',\n",
    "                                                           y_col=y,\n",
    "                                                           class_mode='sparse',\n",
    "                                                           target_size=(350,350),\n",
    "                                                           shuffle=False,            \n",
    "                                                           batch_size=batch_size,\n",
    "                                                           seed=seed)\n",
    "    \n",
    "    i = 0\n",
    "    \n",
    "    while True:\n",
    "        X1 = train_generator_1.next()\n",
    "        X2 = X[i:(i+batch_size)]\n",
    "        i+=batch_size\n",
    "        yield [X1[0], X2], X1[1]\n",
    "        \n",
    "\n",
    "# Fonction pour créer un générateur images+textes pour le jeu de validation\n",
    "def validGenerator(data,X,y,batch_size,seed):\n",
    "    valid_generator_1 = valid_image_data_generator.flow_from_dataframe(dataframe=data,\n",
    "                                                           directory=\"\",\n",
    "                                                           x_col='img_paths',\n",
    "                                                           y_col=y,\n",
    "                                                           class_mode='sparse',\n",
    "                                                           target_size=(350,350),\n",
    "                                                           shuffle=False,            \n",
    "                                                           batch_size=batch_size,\n",
    "                                                           seed=seed)\n",
    "    \n",
    "    j = 0\n",
    "    \n",
    "    while True:\n",
    "        X1 = valid_generator_1.next()\n",
    "        X2 = X[j:(j+batch_size)]\n",
    "        j+=batch_size\n",
    "        yield [X1[0], X2], X1[1]\n",
    "\n",
    "\n",
    "# Pour pouvoir faire plusieurs boucles dans les données de textes lors de l'entraînement\n",
    "X_train_2 = np.concatenate((X_train,X_train,X_train,X_train,X_train,X_train),axis=0)\n",
    "X_valid_2 = np.concatenate((X_valid,X_valid,X_valid,X_valid,X_valid,X_valid),axis=0)\n",
    "\n",
    "# Création des générateurs textes+images\n",
    "train_generator = trainGenerator(data=data_train,X=X_train_2,y='class',batch_size=batch_size,seed=123)\n",
    "valid_generator = validGenerator(data=data_valid,X=X_valid_2,y='class',batch_size=1,seed=123)"
   ]
  },
  {
   "cell_type": "markdown",
   "metadata": {
    "executionInfo": {
     "elapsed": 381,
     "status": "ok",
     "timestamp": 1632855126722,
     "user": {
      "displayName": "Gilles Nicolet",
      "photoUrl": "https://lh3.googleusercontent.com/a/default-user=s64",
      "userId": "06927746201913363489"
     },
     "user_tz": -120
    },
    "id": "dsgaigXh9wuN"
   },
   "source": [
    "## Création du modèle"
   ]
  },
  {
   "cell_type": "markdown",
   "metadata": {},
   "source": [
    "Nous créons tout d'abord la partie CNN du modèle pour le texte ('cnn' dans le code) avec une couche d'entrée, suivi par une couche d'embedding (avec une taille de 200 pour limiter le surapprentissage) et une couche de reshape. Puis, nous avons 6 canaux convolution-max pooling construits en parallèles qui sont ensuite concaténés. Enfin, suivent une couche flatten et une couche de dropout avec un taux de 0.4.\n",
    "\n",
    "Ensuite, nous créons notre modèle pour les images ('efficientnetb4' dans le code) construit à partir de la partie convolutionnelle d'un réseau EfficientNetB4 préentraîné sur le jeu de données ImageNet à lequelle nous avons rajouté une couche de global average pooling, une couche dense de 512 neurones, puis un dropout avec un taux de 0.2.\n",
    "\n",
    "La différence de taux entre les couches de dropout (0.4 contre 0.2) nous permet de mieux prendre en compte la partie de modèle sur les images, qui sans cela serait excessivement dominée par le partie texte de notre modèle. Ceci permet une meilleure compensation mutuelle des deux parties de notre modèle.\n",
    "\n",
    "Enfin, nous concatenons ces 2 parties en un unique modèle (nommé 'model') en rajoutant une couche dense de sortie de 27 neurones (pour les 27 catégories de produits)."
   ]
  },
  {
   "cell_type": "code",
   "execution_count": 6,
   "metadata": {
    "executionInfo": {
     "elapsed": 8696,
     "status": "ok",
     "timestamp": 1632855146058,
     "user": {
      "displayName": "Gilles Nicolet",
      "photoUrl": "https://lh3.googleusercontent.com/a/default-user=s64",
      "userId": "06927746201913363489"
     },
     "user_tz": -120
    },
    "id": "_5GhlWW9_4KM"
   },
   "outputs": [
    {
     "name": "stderr",
     "output_type": "stream",
     "text": [
      "2021-10-05 09:58:06.410381: I tensorflow/compiler/jit/xla_cpu_device.cc:41] Not creating XLA devices, tf_xla_enable_xla_devices not set\n",
      "2021-10-05 09:58:06.410625: I tensorflow/stream_executor/cuda/cuda_gpu_executor.cc:941] successful NUMA node read from SysFS had negative value (-1), but there must be at least one NUMA node, so returning NUMA node zero\n",
      "2021-10-05 09:58:06.411344: I tensorflow/core/common_runtime/gpu/gpu_device.cc:1720] Found device 0 with properties: \n",
      "pciBusID: 0000:02:00.0 name: NVIDIA GeForce GTX 960M computeCapability: 5.0\n",
      "coreClock: 1.176GHz coreCount: 5 deviceMemorySize: 3.95GiB deviceMemoryBandwidth: 74.65GiB/s\n",
      "2021-10-05 09:58:06.411382: I tensorflow/stream_executor/platform/default/dso_loader.cc:49] Successfully opened dynamic library libcudart.so.10.1\n",
      "2021-10-05 09:58:06.411420: I tensorflow/stream_executor/platform/default/dso_loader.cc:49] Successfully opened dynamic library libcublas.so.10\n",
      "2021-10-05 09:58:06.411443: I tensorflow/stream_executor/platform/default/dso_loader.cc:49] Successfully opened dynamic library libcublasLt.so.10\n",
      "2021-10-05 09:58:06.411465: I tensorflow/stream_executor/platform/default/dso_loader.cc:49] Successfully opened dynamic library libcufft.so.10\n",
      "2021-10-05 09:58:06.411486: I tensorflow/stream_executor/platform/default/dso_loader.cc:49] Successfully opened dynamic library libcurand.so.10\n",
      "2021-10-05 09:58:06.411508: I tensorflow/stream_executor/platform/default/dso_loader.cc:49] Successfully opened dynamic library libcusolver.so.10\n",
      "2021-10-05 09:58:06.411548: I tensorflow/stream_executor/platform/default/dso_loader.cc:49] Successfully opened dynamic library libcusparse.so.10\n",
      "2021-10-05 09:58:06.411578: I tensorflow/stream_executor/platform/default/dso_loader.cc:49] Successfully opened dynamic library libcudnn.so.7\n",
      "2021-10-05 09:58:06.411678: I tensorflow/stream_executor/cuda/cuda_gpu_executor.cc:941] successful NUMA node read from SysFS had negative value (-1), but there must be at least one NUMA node, so returning NUMA node zero\n",
      "2021-10-05 09:58:06.412393: I tensorflow/stream_executor/cuda/cuda_gpu_executor.cc:941] successful NUMA node read from SysFS had negative value (-1), but there must be at least one NUMA node, so returning NUMA node zero\n",
      "2021-10-05 09:58:06.413014: I tensorflow/core/common_runtime/gpu/gpu_device.cc:1862] Adding visible gpu devices: 0\n",
      "2021-10-05 09:58:06.413461: I tensorflow/stream_executor/cuda/cuda_gpu_executor.cc:941] successful NUMA node read from SysFS had negative value (-1), but there must be at least one NUMA node, so returning NUMA node zero\n",
      "2021-10-05 09:58:06.414140: I tensorflow/core/common_runtime/gpu/gpu_device.cc:1720] Found device 0 with properties: \n",
      "pciBusID: 0000:02:00.0 name: NVIDIA GeForce GTX 960M computeCapability: 5.0\n",
      "coreClock: 1.176GHz coreCount: 5 deviceMemorySize: 3.95GiB deviceMemoryBandwidth: 74.65GiB/s\n",
      "2021-10-05 09:58:06.414169: I tensorflow/stream_executor/platform/default/dso_loader.cc:49] Successfully opened dynamic library libcudart.so.10.1\n",
      "2021-10-05 09:58:06.414195: I tensorflow/stream_executor/platform/default/dso_loader.cc:49] Successfully opened dynamic library libcublas.so.10\n",
      "2021-10-05 09:58:06.414217: I tensorflow/stream_executor/platform/default/dso_loader.cc:49] Successfully opened dynamic library libcublasLt.so.10\n",
      "2021-10-05 09:58:06.414238: I tensorflow/stream_executor/platform/default/dso_loader.cc:49] Successfully opened dynamic library libcufft.so.10\n",
      "2021-10-05 09:58:06.414259: I tensorflow/stream_executor/platform/default/dso_loader.cc:49] Successfully opened dynamic library libcurand.so.10\n",
      "2021-10-05 09:58:06.414280: I tensorflow/stream_executor/platform/default/dso_loader.cc:49] Successfully opened dynamic library libcusolver.so.10\n",
      "2021-10-05 09:58:06.414301: I tensorflow/stream_executor/platform/default/dso_loader.cc:49] Successfully opened dynamic library libcusparse.so.10\n",
      "2021-10-05 09:58:06.414322: I tensorflow/stream_executor/platform/default/dso_loader.cc:49] Successfully opened dynamic library libcudnn.so.7\n",
      "2021-10-05 09:58:06.414412: I tensorflow/stream_executor/cuda/cuda_gpu_executor.cc:941] successful NUMA node read from SysFS had negative value (-1), but there must be at least one NUMA node, so returning NUMA node zero\n",
      "2021-10-05 09:58:06.415181: I tensorflow/stream_executor/cuda/cuda_gpu_executor.cc:941] successful NUMA node read from SysFS had negative value (-1), but there must be at least one NUMA node, so returning NUMA node zero\n",
      "2021-10-05 09:58:06.415890: I tensorflow/core/common_runtime/gpu/gpu_device.cc:1862] Adding visible gpu devices: 0\n",
      "2021-10-05 09:58:06.415950: I tensorflow/core/common_runtime/gpu/gpu_device.cc:1261] Device interconnect StreamExecutor with strength 1 edge matrix:\n",
      "2021-10-05 09:58:06.415968: I tensorflow/core/common_runtime/gpu/gpu_device.cc:1267]      0 \n",
      "2021-10-05 09:58:06.415982: I tensorflow/core/common_runtime/gpu/gpu_device.cc:1280] 0:   N \n",
      "2021-10-05 09:58:06.416202: I tensorflow/stream_executor/cuda/cuda_gpu_executor.cc:941] successful NUMA node read from SysFS had negative value (-1), but there must be at least one NUMA node, so returning NUMA node zero\n",
      "2021-10-05 09:58:06.417053: I tensorflow/stream_executor/cuda/cuda_gpu_executor.cc:941] successful NUMA node read from SysFS had negative value (-1), but there must be at least one NUMA node, so returning NUMA node zero\n",
      "2021-10-05 09:58:06.417577: I tensorflow/core/common_runtime/gpu/gpu_device.cc:1406] Created TensorFlow device (/job:localhost/replica:0/task:0/device:GPU:0 with 3403 MB memory) -> physical GPU (device: 0, name: NVIDIA GeForce GTX 960M, pci bus id: 0000:02:00.0, compute capability: 5.0)\n",
      "2021-10-05 09:58:06.417608: I tensorflow/compiler/jit/xla_gpu_device.cc:99] Not creating XLA devices, tf_xla_enable_xla_devices not set\n"
     ]
    }
   ],
   "source": [
    "##### Modèle CNN pour le texte #####\n",
    "\n",
    "# Dimension de l'embedding\n",
    "taille = 200\n",
    "# Nombre de mots maximum\n",
    "nb_max = 34\n",
    "\n",
    "# Création de la couche Input\n",
    "input = Input(shape=nb_max)\n",
    "\n",
    "# Création de la couche Embedding reliée à input\n",
    "embedding = Embedding(input_dim = vocabulary_size, output_dim = taille,input_length=nb_max)(input)\n",
    "# Création de la couche Reshape\n",
    "reshape = Reshape(target_shape=(nb_max,taille,1))(embedding)\n",
    "\n",
    "# canal 1\n",
    "conv_1 = Conv2D(filters=512, kernel_size=(1,taille) ,activation='relu')(reshape)\n",
    "max_pool_1 = MaxPooling2D(pool_size=nb_max,  padding='same')(conv_1)\n",
    "\n",
    "# canal 2\n",
    "conv_2 = Conv2D(filters=512, kernel_size=(2,taille),padding='valid',activation='relu')(reshape)\n",
    "max_pool_2 = MaxPooling2D(pool_size=nb_max-1,  padding='same')(conv_2)\n",
    "\n",
    "# canal 3\n",
    "conv_3 = Conv2D(filters=512,kernel_size=(3,taille),padding='valid',activation='relu')(reshape)\n",
    "max_pool_3 = MaxPooling2D(pool_size=nb_max-2,  padding='same')(conv_3)\n",
    "\n",
    "# canal 4\n",
    "conv_4 = Conv2D(filters=512,kernel_size=(4,taille),padding='valid',activation='relu')(reshape)\n",
    "max_pool_4 = MaxPooling2D(pool_size=nb_max-3,  padding='same')(conv_4)\n",
    "\n",
    "# canal 5\n",
    "conv_5 = Conv2D(filters=512,kernel_size=(5,taille),padding='valid',activation='relu')(reshape)\n",
    "max_pool_5 = MaxPooling2D(pool_size=nb_max-4,  padding='same')(conv_5)\n",
    "\n",
    "# canal 6\n",
    "conv_6 = Conv2D(filters=512,kernel_size=(6,taille),padding='valid',activation='relu')(reshape)\n",
    "max_pool_6 = MaxPooling2D(pool_size=nb_max-5,  padding='same')(conv_6)\n",
    "\n",
    "# Concaténation des canaux\n",
    "concatenate = Concatenate()([max_pool_1,max_pool_2,max_pool_3,max_pool_4,max_pool_5,max_pool_6])\n",
    "flatten = Flatten()(concatenate)\n",
    "# Nous avons une couche de Dropout avec un taux de 0.4 pour la partie texte\n",
    "dropout = Dropout(rate=0.4)(flatten)\n",
    "\n",
    "cnn = Model(inputs=input,outputs=dropout)\n",
    "\n",
    "\n",
    "##### Modèle EfficientNetB4 pour les images #####\n",
    "from tensorflow.keras.applications.efficientnet import EfficientNetB4\n",
    "\n",
    "# Chargement de la partie basse du modèle préentraîné\n",
    "base_model = EfficientNetB4(include_top=False, weights='imagenet')\n",
    "\n",
    "# Nous gelons les premières couches\n",
    "for layer in base_model.layers[:449]:\n",
    "    layer.trainable = False \n",
    "\n",
    "# Construction du modèle\n",
    "global_average_pooling = GlobalAveragePooling2D()\n",
    "dense1 = Dense(units=512,activation ='relu')\n",
    "\n",
    "efficientnetb4 = Sequential()\n",
    "efficientnetb4.add(base_model)\n",
    "efficientnetb4.add(global_average_pooling)\n",
    "efficientnetb4.add(dense1)\n",
    "# Nous avons une couche de Dropout avec un taux de 0.2 pour le modèle image\n",
    "efficientnetb4.add(Dropout(rate=0.2))\n",
    "\n",
    "##### Regroupement des modèles textes et images en un seul modèle #####\n",
    "# Concaténation des sorties de l'EfficientNetB4 et de CNN-textes\n",
    "combinedInput = Concatenate()([efficientnetb4.output,cnn.output])\n",
    "\n",
    "# Couche dense de sortie de notre modèle\n",
    "dense2 = Dense(units=27,activation ='softmax')(combinedInput)\n",
    "\n",
    "# Création de notre modèle en précisant les entrées et les sorties\n",
    "model = Model(inputs=[efficientnetb4.input,cnn.input],outputs=dense2)\n",
    "\n",
    "# Compilation du modèle\n",
    "model.compile(optimizer='adam',loss='sparse_categorical_crossentropy',metrics=['acc'])\n"
   ]
  },
  {
   "cell_type": "markdown",
   "metadata": {
    "executionInfo": {
     "elapsed": 444,
     "status": "ok",
     "timestamp": 1632855348195,
     "user": {
      "displayName": "Gilles Nicolet",
      "photoUrl": "https://lh3.googleusercontent.com/a/default-user=s64",
      "userId": "06927746201913363489"
     },
     "user_tz": -120
    },
    "id": "dtwsBbS6fZAk"
   },
   "source": [
    "## Entraînement"
   ]
  },
  {
   "cell_type": "code",
   "execution_count": 9,
   "metadata": {
    "colab": {
     "base_uri": "https://localhost:8080/",
     "height": 1000
    },
    "executionInfo": {
     "elapsed": 16905,
     "status": "error",
     "timestamp": 1632855722575,
     "user": {
      "displayName": "Gilles Nicolet",
      "photoUrl": "https://lh3.googleusercontent.com/a/default-user=s64",
      "userId": "06927746201913363489"
     },
     "user_tz": -120
    },
    "id": "ApusIOySaIqz",
    "outputId": "dac95749-a4ec-405c-dd55-705edee4d9d9"
   },
   "outputs": [
    {
     "name": "stderr",
     "output_type": "stream",
     "text": [
      "/home/zhx/anaconda3/envs/tf-gpu/lib/python3.9/site-packages/tensorflow/python/keras/engine/training.py:1844: UserWarning: `Model.fit_generator` is deprecated and will be removed in a future version. Please use `Model.fit`, which supports generators.\n",
      "  warnings.warn('`Model.fit_generator` is deprecated and '\n"
     ]
    },
    {
     "name": "stdout",
     "output_type": "stream",
     "text": [
      "Found 71104 validated image filenames belonging to 27 classes.\n"
     ]
    },
    {
     "name": "stderr",
     "output_type": "stream",
     "text": [
      "2021-10-05 09:58:56.101498: I tensorflow/compiler/mlir/mlir_graph_optimization_pass.cc:116] None of the MLIR optimization passes are enabled (registered 2)\n",
      "2021-10-05 09:58:56.143754: I tensorflow/core/platform/profile_utils/cpu_utils.cc:112] CPU Frequency: 2599990000 Hz\n"
     ]
    },
    {
     "name": "stdout",
     "output_type": "stream",
     "text": [
      "Epoch 1/5\n"
     ]
    },
    {
     "name": "stderr",
     "output_type": "stream",
     "text": [
      "2021-10-05 09:59:10.091119: I tensorflow/stream_executor/platform/default/dso_loader.cc:49] Successfully opened dynamic library libcublas.so.10\n",
      "2021-10-05 09:59:13.037001: I tensorflow/stream_executor/platform/default/dso_loader.cc:49] Successfully opened dynamic library libcudnn.so.7\n",
      "2021-10-05 09:59:21.720789: W tensorflow/core/common_runtime/bfc_allocator.cc:248] Allocator (GPU_0_bfc) ran out of memory trying to allocate 2.28GiB with freed_by_count=0. The caller indicates that this is not a failure, but may mean that there could be performance gains if more memory were available.\n"
     ]
    },
    {
     "name": "stdout",
     "output_type": "stream",
     "text": [
      "2222/2222 [==============================] - ETA: 0s - loss: 1.0342 - acc: 0.7025Found 13812 validated image filenames belonging to 27 classes.\n",
      "2222/2222 [==============================] - 5041s 2s/step - loss: 1.0340 - acc: 0.7026 - val_loss: 0.5624 - val_acc: 0.8341\n",
      "Epoch 2/5\n",
      "2222/2222 [==============================] - 4735s 2s/step - loss: 0.4313 - acc: 0.8699 - val_loss: 0.6727 - val_acc: 0.8239\n",
      "Epoch 3/5\n",
      "2222/2222 [==============================] - 4718s 2s/step - loss: 0.2828 - acc: 0.9134 - val_loss: 0.8551 - val_acc: 0.8170\n",
      "Epoch 4/5\n",
      "2222/2222 [==============================] - 4719s 2s/step - loss: 0.1980 - acc: 0.9390 - val_loss: 1.0059 - val_acc: 0.8189\n",
      "Epoch 5/5\n",
      "2222/2222 [==============================] - 4716s 2s/step - loss: 0.1746 - acc: 0.9502 - val_loss: 1.1564 - val_acc: 0.8248\n"
     ]
    }
   ],
   "source": [
    "# Entraînement du modèle\n",
    "training_history = model.fit_generator(generator=train_generator, \n",
    "                              epochs = 5,\n",
    "                              steps_per_epoch = len(data_train)//batch_size,\n",
    "                              validation_data = valid_generator,\n",
    "                              validation_steps = len(data_valid)#//batch_size\n",
    "                              )"
   ]
  },
  {
   "cell_type": "markdown",
   "metadata": {},
   "source": [
    "## Évaluation du modèle"
   ]
  },
  {
   "cell_type": "markdown",
   "metadata": {},
   "source": [
    "L'évaluation du modèle est faite à partir :\n",
    "* La figure de l'évolution des accuracies d'entraînement et de validation durant les 5 époques. Le fort surajustement constaté est dû à la partie 'textes' de notre modèle\n",
    "* La matrice de confusion des prédictions sur le jeu de validation. Nous constatons la bonne capacité de prédictions de notre modèle\n",
    "* Les scores des prédictions sur le jeu de validation. Le F1-score pondéré était la métrique principale considéré lors de la construction de ce modèle (0.83). Les F1-scores par classes vont de 0.56 à 0.99. La difficulté à prédire la classe 1281 provient de la présence d'une classe quasi jumelle (la classe 1280)."
   ]
  },
  {
   "cell_type": "code",
   "execution_count": 11,
   "metadata": {
    "id": "_b8n1v7Kw8Mb"
   },
   "outputs": [
    {
     "data": {
      "image/png": "[encoded data removed]",
      "text/plain": [
       "<Figure size 432x288 with 1 Axes>"
      ]
     },
     "metadata": {
      "needs_background": "light"
     },
     "output_type": "display_data"
    }
   ],
   "source": [
    "# Évolution de l'accuracy durant l'entraînement\n",
    "plt.xlabel('Epochs')\n",
    "plt.ylabel('Accuracy')\n",
    "plt.plot(np.arange(1,len(training_history.history['acc'])+1,1),\n",
    "         training_history.history['acc'],label='Training Accuracy',color='blue')\n",
    "plt.plot(np.arange(1,len(training_history.history['val_acc'])+1,1),\n",
    "         training_history.history['val_acc'],label='Validation Accuracy',color='red')\n",
    "plt.legend()\n",
    "plt.show()\n"
   ]
  },
  {
   "cell_type": "code",
   "execution_count": 14,
   "metadata": {
    "id": "5F9QwbtWxpB5"
   },
   "outputs": [
    {
     "data": {
      "image/png": "[encoded data removed]",
      "text/plain": [
       "<Figure size 1080x1080 with 2 Axes>"
      ]
     },
     "metadata": {
      "needs_background": "light"
     },
     "output_type": "display_data"
    }
   ],
   "source": [
    "# Prédictions sur le jeu d'entraînement\n",
    "valid_generator = trainGenerator(data=data_valid,X=X_valid,y='class',batch_size=1,seed=123)\n",
    "valid_pred_class = model.predict_generator(valid_generator,steps=len(data_valid))\n",
    "\n",
    "# Correspondance entre les indices et les classes\n",
    "index_classe = np.arange(27)\n",
    "list_classe = ['10', '1140', '1160', '1180', '1280', '1281', '1300', '1301', '1302', '1320', '1560', '1920', '1940', '2060', '2220', '2280', '2403', '2462', '2522', '2582', '2583', '2585', '2705', '2905', '40', '50', '60']\n",
    "\n",
    "# Remplacement des indices par les noms des classes\n",
    "y_true = data_valid['class']\n",
    "valid_pred = pd.Series(valid_pred_class.argmax(axis=1))\n",
    "valid_pred = valid_pred.replace(to_replace=index_classe,value=list_classe)\n",
    "\n",
    "# Matrice de confusion\n",
    "from sklearn.metrics import confusion_matrix\n",
    "cnf_matrix = confusion_matrix(y_true,valid_pred)\n",
    "\n",
    "classes = np.unique(y_true)\n",
    "\n",
    "plt.figure(figsize=(15,15))\n",
    "plt.imshow(cnf_matrix, interpolation='nearest',cmap='Blues')\n",
    "plt.title(\"Matrice de confusion\")\n",
    "plt.colorbar()\n",
    "tick_marks = np.arange(len(classes))\n",
    "plt.xticks(tick_marks, classes)\n",
    "plt.yticks(tick_marks, classes)\n",
    "plt.xlabel('valeurs predites')\n",
    "plt.ylabel('valeurs reelles');"
   ]
  },
  {
   "cell_type": "code",
   "execution_count": 15,
   "metadata": {
    "id": "4kmuSH2dxwbg"
   },
   "outputs": [
    {
     "name": "stdout",
     "output_type": "stream",
     "text": [
      "              precision    recall  f1-score   support\n",
      "\n",
      "          10       0.57      0.65      0.61       507\n",
      "        1140       0.71      0.80      0.75       434\n",
      "        1160       0.98      0.96      0.97       643\n",
      "        1180       0.74      0.59      0.65       124\n",
      "        1280       0.75      0.66      0.70       792\n",
      "        1281       0.55      0.58      0.56       337\n",
      "        1300       0.96      0.96      0.96       821\n",
      "        1301       0.92      0.92      0.92       131\n",
      "        1302       0.72      0.81      0.77       405\n",
      "        1320       0.85      0.66      0.74       527\n",
      "        1560       0.84      0.80      0.82       825\n",
      "        1920       0.91      0.88      0.90       700\n",
      "        1940       0.87      0.89      0.88       131\n",
      "        2060       0.74      0.81      0.78       812\n",
      "        2220       0.87      0.78      0.82       134\n",
      "        2280       0.81      0.88      0.84       774\n",
      "        2403       0.86      0.77      0.82       777\n",
      "        2462       0.83      0.81      0.82       231\n",
      "        2522       0.91      0.92      0.91       812\n",
      "        2582       0.67      0.78      0.72       421\n",
      "        2583       0.96      0.96      0.96      1661\n",
      "        2585       0.70      0.78      0.74       406\n",
      "        2705       0.72      0.73      0.73       449\n",
      "        2905       0.98      1.00      0.99       142\n",
      "          40       0.88      0.73      0.80       408\n",
      "          50       0.79      0.82      0.80       273\n",
      "          60       0.93      0.94      0.94       135\n",
      "\n",
      "    accuracy                           0.83     13812\n",
      "   macro avg       0.82      0.81      0.81     13812\n",
      "weighted avg       0.83      0.83      0.83     13812\n",
      "\n"
     ]
    }
   ],
   "source": [
    "# Scores\n",
    "from sklearn.metrics import classification_report\n",
    "print(classification_report(y_true,valid_pred))"
   ]
  },
  {
   "cell_type": "code",
   "execution_count": null,
   "metadata": {},
   "outputs": [],
   "source": []
  }
 ],
 "metadata": {
  "accelerator": "GPU",
  "colab": {
   "authorship_tag": "ABX9TyOKcszsuIbP09kyrQxpZBqm",
   "collapsed_sections": [],
   "name": "RakuPy_concatenation_CNN_EfficientNetB4.ipynb",
   "provenance": []
  },
  "kernelspec": {
   "display_name": "Python 3",
   "language": "python",
   "name": "python3"
  },
  "language_info": {
   "codemirror_mode": {
    "name": "ipython",
    "version": 3
   },
   "file_extension": ".py",
   "mimetype": "text/x-python",
   "name": "python",
   "nbconvert_exporter": "python",
   "pygments_lexer": "ipython3",
   "version": "3.7.4"
  }
 },
 "nbformat": 4,
 "nbformat_minor": 1
}
